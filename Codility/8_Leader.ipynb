{
 "cells": [
  {
   "cell_type": "markdown",
   "metadata": {},
   "source": [
    "## Dominator"
   ]
  },
  {
   "cell_type": "markdown",
   "metadata": {},
   "source": [
    "An array A consisting of N integers is given. The dominator of array A is the value that occurs in more than half of the elements of A.\n",
    "\n",
    "For example, consider array A such that:\n",
    "\n",
    " A[0] = 3    A[1] = 4    A[2] =  3\n",
    " \n",
    " A[3] = 2    A[4] = 3    A[5] = -1\n",
    " \n",
    " A[6] = 3    A[7] = 3\n",
    "\n",
    "The dominator of A is 3 because it occurs in 5 out of 8 elements of A (namely in those with indices 0, 2, 4, 6 and 7) and 5 is more than a half of 8."
   ]
  },
  {
   "cell_type": "code",
   "execution_count": 1,
   "metadata": {},
   "outputs": [],
   "source": [
    "def solution(A):\n",
    "    d = {}\n",
    "    \n",
    "    #  Here we simply create a dictionary where we keep the value as key, and occurence as value\n",
    "    for number in A:\n",
    "        if number not in d:\n",
    "            d[number] = 0\n",
    "        d[number] += 1\n",
    "    \n",
    "    # Find max occurence among dict. values\n",
    "    max_occurence = max(d.values())\n",
    "    \n",
    "    # Now return the key (number from array) of the max value\n",
    "    value_max_occur = list(d.keys())[list(d.values()).index(max_occurence)]\n",
    "    \n",
    "    return A.index(value_max_occur)"
   ]
  },
  {
   "cell_type": "markdown",
   "metadata": {},
   "source": [
    "$100 \\%$ Solution taken from [here](https://codesays.com/2014/solution-to-dominator-by-codility/). \n",
    "\n",
    "The main idea is $O^{N}$ approach that is shown in [Lection](https://codility.com/media/train/6-Leader.pdf). The main idea is that after removing a pair of elements of dierent values, the remaining sequence still has the same leader."
   ]
  },
  {
   "cell_type": "code",
   "execution_count": 7,
   "metadata": {},
   "outputs": [],
   "source": [
    "def solution(A):\n",
    "    A_len = len(A)\n",
    "    candidate = -1\n",
    "    candidate_count = 0\n",
    "    candidate_index = -1\n",
    "    for index in range(A_len):\n",
    "        if candidate_count == 0:\n",
    "            candidate = A[index]\n",
    "            candidate_index = index\n",
    "            candidate_count += 1\n",
    "        else:\n",
    "            if A[index] == candidate:\n",
    "                candidate_count += 1\n",
    "            else:\n",
    "                candidate_count -= 1\n",
    "    if len([number for number in A if number == candidate]) <= A_len//2:\n",
    "        return -1\n",
    "    else:\n",
    "        return candidate_index"
   ]
  },
  {
   "cell_type": "markdown",
   "metadata": {},
   "source": [
    "## EquiLeader"
   ]
  },
  {
   "cell_type": "markdown",
   "metadata": {},
   "source": [
    "A non-empty array A consisting of N integers is given.\n",
    "\n",
    "The leader of this array is the value that occurs in more than half of the elements of A.\n",
    "\n",
    "An equi leader is an index S such that 0 ≤ S < N − 1 and two sequences A[0], A[1], ..., A[S] and A[S + 1], A[S + 2], ..., A[N − 1] have leaders of the same value.\n",
    "\n",
    "For example, given array A such that:\n",
    "\n",
    "    A[0] = 4\n",
    "    A[1] = 3\n",
    "    A[2] = 4\n",
    "    A[3] = 4\n",
    "    A[4] = 4\n",
    "    A[5] = 2\n",
    "we can find two equi leaders:\n",
    "\n",
    "0, because sequences: (4) and (3, 4, 4, 4, 2) have the same leader, whose value is 4.\n",
    "2, because sequences: (4, 3, 4) and (4, 4, 2) have the same leader, whose value is 4.\n",
    "The goal is to count the number of equi leaders.\n",
    "\n",
    "Write a function:\n",
    "\n",
    "`def solution(A)`\n",
    "\n",
    "that, given a non-empty array A consisting of N integers, returns the number of equi leaders."
   ]
  },
  {
   "cell_type": "code",
   "execution_count": null,
   "metadata": {},
   "outputs": [],
   "source": [
    "# We basically have to re-use previous solution in order to find the leader and\n",
    "# to proceed a bit further\n",
    "\n",
    "def solution(A):\n",
    "    A_len = len(A)\n",
    "    candidate = -1\n",
    "    candidate_count = 0\n",
    "    candidate_index = -1\n",
    "    \n",
    "    # Find out a leader candidate\n",
    "    for index in range(A_len):\n",
    "        if candidate_count == 0:\n",
    "            candidate = A[index]\n",
    "            candidate_index = index\n",
    "            candidate_count += 1\n",
    "        else:\n",
    "            if A[index] == candidate:\n",
    "                candidate_count += 1\n",
    "            else:\n",
    "                candidate_count -= 1\n",
    "    # Make sure the candidate is the leader\n",
    "    leader_count = len([number for number in A if number == candidate])\n",
    "    \n",
    "    if leader_count <= A_len//2:\n",
    "        # The candidate is not the leader\n",
    "        return 0\n",
    "    else:\n",
    "        leader = candidate\n",
    "    \n",
    "    # Equi Leader part\n",
    "    equi_leaders = 0\n",
    "    leader_count_so_far = 0\n",
    "    \n",
    "    for index in range(A_len):\n",
    "        \n",
    "        if A[index] == leader:\n",
    "            leader_count_so_far += 1\n",
    "        \n",
    "        if leader_count_so_far > (index+1)//2 and leader_count-leader_count_so_far > (A_len-index-1)//2:\n",
    "            # Both the head and tail have leaders of the same value as \"leader\"\n",
    "            equi_leaders += 1\n",
    "    \n",
    "    return equi_leaders\n",
    "        "
   ]
  }
 ],
 "metadata": {
  "kernelspec": {
   "display_name": "Python 3",
   "language": "python",
   "name": "python3"
  },
  "language_info": {
   "codemirror_mode": {
    "name": "ipython",
    "version": 3
   },
   "file_extension": ".py",
   "mimetype": "text/x-python",
   "name": "python",
   "nbconvert_exporter": "python",
   "pygments_lexer": "ipython3",
   "version": "3.5.3"
  }
 },
 "nbformat": 4,
 "nbformat_minor": 2
}
