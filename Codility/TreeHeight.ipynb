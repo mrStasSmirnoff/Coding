{
 "cells": [
  {
   "cell_type": "markdown",
   "metadata": {},
   "source": [
    "Write a function: \n",
    "\n",
    "`def solution(T)`\n",
    "\n",
    "that, given a non-empty binary tree T consisting of N nodes, returns its height. For example, given tree T shown in the figure above, the function should return 2, as explained above. Note that the values contained in the nodes are not relevant in this task.\n",
    "\n",
    "A binary tree can be given using a pointer data structure. Assume that the following declarations are given:\n",
    "\n",
    "`class Tree(object):`\n",
    "  \n",
    "  x = 0\n",
    "  \n",
    "  l = None\n",
    "  \n",
    "  r = None\n",
    "\n",
    "An empty tree is represented by an empty pointer (denoted by None). A non-empty tree is represented by a pointer to an object representing its root. The attribute `x` holds the integer contained in the root, whereas attributes `l` and `r` hold the left and right subtrees of the binary tree, respectively.\n",
    "\n",
    "\n",
    "For the purpose of entering your own test cases, you can denote a tree recursively in the following way. An empty binary tree is denoted by None. A non-empty tree is denoted as (X, L, R), where `X` is the value contained in the root and `L` and `R` denote the left and right subtrees, respectively. The tree from the above figure can be denoted as:\n",
    "\n",
    "  (5, (3, (20, None, None), (21, None, None)), (10, (1, None, None), None))"
   ]
  },
  {
   "cell_type": "code",
   "execution_count": null,
   "metadata": {},
   "outputs": [],
   "source": [
    "'''\n",
    "class Tree(object):\n",
    "  x = 0\n",
    "  l = None\n",
    "  r = None\n",
    "'''\n",
    "\n",
    "def solution(T):\n",
    "    \n",
    "    if T.l == None and T.r == None:\n",
    "        return 0 # No subtree\n",
    "    \n",
    "    if T.l == None:\n",
    "        return 1 + solution(T.r) # Has only right sub-tree\n",
    "    \n",
    "    if T.r == None:\n",
    "        return 1 + solution(T.l) # Has only left sub-tree\n",
    "    \n",
    "    else:\n",
    "        return 1 + max(solution(T.r), solution(T.l))        "
   ]
  },
  {
   "cell_type": "markdown",
   "metadata": {},
   "source": [
    "Another solution taken from [here](https://www.martinkysel.com/codility-treeheight-solution/)"
   ]
  },
  {
   "cell_type": "code",
   "execution_count": null,
   "metadata": {},
   "outputs": [],
   "source": [
    "'''\n",
    "class Tree(object):\n",
    "  x = 0\n",
    "  l = None\n",
    "  r = None\n",
    "'''\n",
    "\n",
    "\n",
    "def getHeight(sub_T):\n",
    "    \n",
    "    if sub_T == None:\n",
    "        return 0\n",
    "    else:\n",
    "        return 1 + max(getHeight(T.r), getHeight(T.l))\n",
    "    \n",
    "def solution(T):\n",
    "    return max(getHeight(T.l), getHeight(T.l))"
   ]
  }
 ],
 "metadata": {
  "kernelspec": {
   "display_name": "Python 3",
   "language": "python",
   "name": "python3"
  },
  "language_info": {
   "codemirror_mode": {
    "name": "ipython",
    "version": 3
   },
   "file_extension": ".py",
   "mimetype": "text/x-python",
   "name": "python",
   "nbconvert_exporter": "python",
   "pygments_lexer": "ipython3",
   "version": "3.5.3"
  }
 },
 "nbformat": 4,
 "nbformat_minor": 2
}
