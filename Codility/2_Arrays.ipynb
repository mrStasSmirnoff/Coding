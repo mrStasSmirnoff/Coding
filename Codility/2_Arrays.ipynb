{
 "cells": [
  {
   "cell_type": "markdown",
   "metadata": {},
   "source": [
    "## Cyclic rotation"
   ]
  },
  {
   "cell_type": "markdown",
   "metadata": {},
   "source": [
    "An array A consisting of N integers is given. Rotation of the array means that each element is shifted right by one index, and the last element of the array is moved to the first place. For example, the rotation of array A = [3, 8, 9, 7, 6] is [6, 3, 8, 9, 7] (elements are shifted right by one index and 6 is moved to the first place).\n",
    "\n",
    "The goal is to rotate array A K times; that is, each element of A will be shifted to the right K times.\n",
    "\n",
    "Write a function:\n",
    "\n",
    "`def solution(A, K)`\n",
    "\n",
    "that, given an array A consisting of N integers and an integer K, returns the array A rotated K times.\n",
    "\n",
    "For example, given\n",
    "\n",
    "    A = [3, 8, 9, 7, 6]\n",
    "    K = 3\n",
    "the function should return [9, 7, 6, 3, 8]. Three rotations were made:\n",
    "\n",
    "    [3, 8, 9, 7, 6] -> [6, 3, 8, 9, 7]\n",
    "    [6, 3, 8, 9, 7] -> [7, 6, 3, 8, 9]\n",
    "    [7, 6, 3, 8, 9] -> [9, 7, 6, 3, 8]\n",
    "For another example, given\n",
    "\n",
    "    A = [0, 0, 0]\n",
    "    K = 1\n",
    "the function should return [0, 0, 0]\n",
    "\n",
    "Given\n",
    "\n",
    "    A = [1, 2, 3, 4]\n",
    "    K = 4\n",
    "\n",
    "the function should return [1, 2, 3, 4]\n",
    "\n",
    "Assume that:\n",
    "\n",
    "N and K are integers within the range [0..100];\n",
    "each element of array A is an integer within the range [−1,000..1,000].\n",
    "In your solution, focus on correctness. The performance of your solution will not be the focus of the assessment."
   ]
  },
  {
   "cell_type": "code",
   "execution_count": null,
   "metadata": {},
   "outputs": [],
   "source": [
    "# Lets write down the cycles:\n",
    "# for a given   A = [3, 8, 9, 7, 6]\n",
    "# for K = 0 --> A = [3, 8, 9, 7, 6]\n",
    "# for K = 1 --> A = [6, 3, 8, 9, 7]\n",
    "# for K = 2 --> A = [7, 6, 3, 8, 9]\n",
    "# for K = 3 --> A = [9, 7, 6, 3, 8]"
   ]
  },
  {
   "cell_type": "markdown",
   "metadata": {},
   "source": [
    "Pythonic solution with slicing."
   ]
  },
  {
   "cell_type": "code",
   "execution_count": null,
   "metadata": {},
   "outputs": [],
   "source": [
    "def solution(A,K):\n",
    "    \n",
    "    if (len(A) == 0 or K == 0):\n",
    "        return A\n",
    "    \n",
    "    answer = A[-K:] + A[:-K]\n",
    "    \n",
    "    return answer   "
   ]
  },
  {
   "cell_type": "markdown",
   "metadata": {},
   "source": [
    "Simply elegant and understandable"
   ]
  },
  {
   "cell_type": "code",
   "execution_count": null,
   "metadata": {},
   "outputs": [],
   "source": [
    "def solution(A, K):\n",
    "    \n",
    "    for _ in range(K):\n",
    "        A = [A[i-1] for i in range(len(A))]\n",
    "    return A\n",
    "\n",
    "solution(A,3)"
   ]
  },
  {
   "cell_type": "markdown",
   "metadata": {},
   "source": [
    "## Odd Occurences in Array"
   ]
  },
  {
   "cell_type": "markdown",
   "metadata": {},
   "source": [
    "A non-empty array A consisting of N integers is given. The array contains an odd number of elements, and each element of the array can be paired with another element that has the same value, except for one element that is left unpaired.\n",
    "\n",
    "For example, in array A such that:\n",
    "\n",
    "  A[0] = 9  A[1] = 3  A[2] = 9\n",
    "  A[3] = 3  A[4] = 9  A[5] = 7\n",
    "  A[6] = 9\n",
    "the elements at indexes 0 and 2 have value 9,\n",
    "the elements at indexes 1 and 3 have value 3,\n",
    "the elements at indexes 4 and 6 have value 9,\n",
    "the element at index 5 has value 7 and is unpaired.\n",
    "Write a function:\n",
    "\n",
    "def solution(A)\n",
    "\n",
    "that, given an array A consisting of N integers fulfilling the above conditions, returns the value of the unpaired element.\n",
    "\n",
    "For example, given array A such that:\n",
    "\n",
    "  A[0] = 9  A[1] = 3  A[2] = 9\n",
    "  A[3] = 3  A[4] = 9  A[5] = 7\n",
    "  A[6] = 9\n",
    "the function should return 7, as explained in the example above.\n",
    "\n",
    "Write an efficient algorithm for the following assumptions:\n",
    "\n",
    "N is an odd integer within the range [1..1,000,000];\n",
    "each element of array A is an integer within the range [1..1,000,000,000];\n",
    "all but one of the values in A occur an even number of times.\n",
    "\n",
    "Complexity:\n",
    "expected worst-case time complexity is O(N);\n",
    "expected worst-case space complexity is O(1), beyond input storage(not counting the storage required for input arguments)."
   ]
  },
  {
   "cell_type": "markdown",
   "metadata": {},
   "source": [
    "#### Solution with XOR operator"
   ]
  },
  {
   "cell_type": "code",
   "execution_count": null,
   "metadata": {},
   "outputs": [],
   "source": [
    "def solution(A):\n",
    "    \n",
    "    if A is None or len(A) == 0:\n",
    "        \n",
    "        return A\n",
    "    \n",
    "    if len(A) == 1:\n",
    "        \n",
    "        return A\n",
    "    \n",
    "    answer = 0\n",
    "    \n",
    "    for j in A:\n",
    "        \n",
    "        answer ^= j\n",
    "    \n",
    "    return answer"
   ]
  },
  {
   "cell_type": "markdown",
   "metadata": {},
   "source": [
    "#### Another solution that is using set()\n",
    "Set() is  module provides classes for constructing and manipulating unordered collections of unique elements\n"
   ]
  },
  {
   "cell_type": "code",
   "execution_count": null,
   "metadata": {},
   "outputs": [],
   "source": [
    "# O(Nlog(N)) complexty\n",
    "\n",
    "def solution(A):\n",
    "    \n",
    "    if A is None or len(A) == 0:\n",
    "        \n",
    "        return A\n",
    "    \n",
    "    if len(A) == 1:\n",
    "        \n",
    "        return A\n",
    "    \n",
    "    container = set()\n",
    "    \n",
    "    # we add \n",
    "    \n",
    "    for j in A:\n",
    "        \n",
    "        if j in container:\n",
    "            \n",
    "            container.remove(j)\n",
    "            \n",
    "        else:\n",
    "            \n",
    "            container.add(j)\n",
    "        \n",
    "    return container.pop()"
   ]
  },
  {
   "cell_type": "markdown",
   "metadata": {},
   "source": [
    "The one could use dictionary, which kind of the same as using `set()`, but in case if we want to have a solution using minimum in-build libraries."
   ]
  },
  {
   "cell_type": "code",
   "execution_count": null,
   "metadata": {},
   "outputs": [],
   "source": [
    "def solution(A):\n",
    "     \n",
    "    if A is None or len(A) == 0:\n",
    "        return A\n",
    "    if len(A) == 1:\n",
    "        return A\n",
    "    \n",
    "    d = {}\n",
    "    # Fill the distionary with the values\n",
    "    for j in A:\n",
    "        if j not in d:\n",
    "            d[j] = 0\n",
    "        d[j] += 1\n",
    "    # Now we go through the dict and check values with remainder after division\n",
    "    for i,v in d.items():\n",
    "        if v%2 == 1:\n",
    "            return i"
   ]
  },
  {
   "cell_type": "markdown",
   "metadata": {},
   "source": [
    "List can also be used."
   ]
  },
  {
   "cell_type": "code",
   "execution_count": null,
   "metadata": {},
   "outputs": [],
   "source": [
    " def solution(A):\n",
    "    \n",
    "    if A is None or len(A) == 0:\n",
    "        return A\n",
    "    if len(A) == 1:\n",
    "        return A\n",
    "    \n",
    "    container = []\n",
    "    \n",
    "    for j in A:\n",
    "        if j in container:\n",
    "            container.remove(j)\n",
    "        else:\n",
    "            container.append(j)\n",
    "    return container.pop()"
   ]
  },
  {
   "cell_type": "markdown",
   "metadata": {},
   "source": [
    "What also can be done is that we could,firstly, sort an array and then look if nearby elements are equal.  Since we only have one element unpaired, we can stop right after we it has been found and returned."
   ]
  },
  {
   "cell_type": "code",
   "execution_count": null,
   "metadata": {},
   "outputs": [],
   "source": [
    "def solution(A):\n",
    "    \n",
    "    if A is None or len(A) == 0:\n",
    "        return A\n",
    "    if len(A) == 1:\n",
    "        return A\n",
    "    \n",
    "    A.sort()\n",
    "\n",
    "    for j in range(0,len(A),2):\n",
    "        if A[j] != A[j+1]:\n",
    "            \n",
    "            return A[j]        "
   ]
  }
 ],
 "metadata": {
  "kernelspec": {
   "display_name": "Python 2",
   "language": "python",
   "name": "python2"
  },
  "language_info": {
   "codemirror_mode": {
    "name": "ipython",
    "version": 2
   },
   "file_extension": ".py",
   "mimetype": "text/x-python",
   "name": "python",
   "nbconvert_exporter": "python",
   "pygments_lexer": "ipython2",
   "version": "2.7.13"
  }
 },
 "nbformat": 4,
 "nbformat_minor": 2
}
