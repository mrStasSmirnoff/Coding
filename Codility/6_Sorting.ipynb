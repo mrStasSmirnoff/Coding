{
 "cells": [
  {
   "cell_type": "markdown",
   "metadata": {},
   "source": [
    "## Distinct\n",
    "\n",
    "Write a function\n",
    "\n",
    "`def solution(A)`\n",
    "\n",
    "that, given an array A consisting of N integers, returns the number of distinct values in array A.\n",
    "\n",
    "For example, given array A consisting of six elements such that:\n",
    "\n",
    " A[0] = 2    A[1] = 1    A[2] = 1\n",
    " A[3] = 2    A[4] = 3    A[5] = 1\n",
    " \n",
    "the function should return 3, because there are 3 distinct values appearing in array A, namely 1, 2 and 3.\n",
    "\n",
    "Write an efficient algorithm for the following assumptions:\n",
    "\n",
    "N is an integer within the range [0..100,000];\n",
    "\n",
    "each element of array A is an integer within the range [−1,000,000..1,000,000].\n",
    "\n",
    "Complexity:\n",
    "\n",
    "expected worst-case time complexity is O(N * log(N));\n",
    "\n",
    "expected worst-case space complexity is O(N)"
   ]
  },
  {
   "cell_type": "markdown",
   "metadata": {},
   "source": [
    "#### 1. The easiest will be to use set() function\n",
    "\n",
    "The first solution is a neat pythonic way of solving a distinct entries problem. The set is implemented as a hash table so it is possible that it will degrade to a linked list. Therefore the actual worst case would be $N^{2}$."
   ]
  },
  {
   "cell_type": "code",
   "execution_count": null,
   "metadata": {},
   "outputs": [],
   "source": [
    "def solution(A):\n",
    "    \n",
    "    return len(list(set(A)))"
   ]
  },
  {
   "cell_type": "markdown",
   "metadata": {},
   "source": [
    "If we would like to minimize the usage of in-built functions, we could use dictionary (so we basically just re-wrote on a low level the set.() implementation)."
   ]
  },
  {
   "cell_type": "code",
   "execution_count": null,
   "metadata": {},
   "outputs": [],
   "source": [
    "def solution(A):\n",
    "    \n",
    "    dictionary = {}\n",
    "    \n",
    "    for j in A:\n",
    "        \n",
    "        if j not in dictionary:\n",
    "            dictionary[j] = 0\n",
    "        dictionary[j] += 1\n",
    "        \n",
    "    return len(dictionary)"
   ]
  },
  {
   "cell_type": "markdown",
   "metadata": {},
   "source": [
    "#### 2. Solution by using sort()\n",
    "Here we are going to use in-built `sort.()` function."
   ]
  },
  {
   "cell_type": "code",
   "execution_count": null,
   "metadata": {},
   "outputs": [],
   "source": [
    "def solution(A):\n",
    "    \n",
    "    if len(A) == 0:\n",
    "\n",
    "        return 0\n",
    "    \n",
    "    d_values = 1 # Initiate distinct values to be equal to 1\n",
    "    A.sort() # Sort an array\n",
    "    \n",
    "    for j in xrange(1,len(A)):\n",
    "        \n",
    "        if A[j] == A[j-1]:\n",
    "            # The same element as the previous one\n",
    "            continue\n",
    "        else:\n",
    "            # A new element\n",
    "            d_values += 1\n",
    "            \n",
    "    return d_values"
   ]
  },
  {
   "cell_type": "markdown",
   "metadata": {},
   "source": [
    "## Triangle"
   ]
  },
  {
   "cell_type": "markdown",
   "metadata": {},
   "source": [
    "An array A consisting of N integers is given. A triplet (P, Q, R) is triangular if 0 ≤ P < Q < R < N and:\n",
    "\n",
    "A[P] + A[Q] > A[R],\n",
    "\n",
    "A[Q] + A[R] > A[P],\n",
    "\n",
    "A[R] + A[P] > A[Q].\n",
    "\n",
    "For example, consider array A such that:\n",
    "\n",
    "  A[0] = 10    A[1] = 2    A[2] = 5\n",
    "  \n",
    "  A[3] = 1     A[4] = 8    A[5] = 20\n",
    "  \n",
    "Triplet (0, 2, 4) is triangular.\n",
    "\n",
    "Write a function:\n",
    "\n",
    "`def solution(A)`\n",
    "\n",
    "that, given an array A consisting of N integers, returns 1 if there exists a triangular triplet for this array and returns 0 otherwise.\n",
    "\n",
    "For example, given array A such that:\n",
    "\n",
    "  A[0] = 10    A[1] = 2    A[2] = 5\n",
    "  A[3] = 1     A[4] = 8    A[5] = 20\n",
    "  \n",
    "the function should return 1, as explained above. Given array A such that:\n",
    "\n",
    "  A[0] = 10    A[1] = 50    A[2] = 5\n",
    "  A[3] = 1\n",
    "  \n",
    "the function should return 0.\n",
    "\n",
    "Write an efficient algorithm for the following assumptions:\n",
    "\n",
    "N is an integer within the range [0..100,000];\n",
    "each element of array A is an integer within the range [−2,147,483,648..2,147,483,647].\n",
    "\n",
    "Complexity:\n",
    "\n",
    "expected worst-case time complexity is O(N*log(N));\n",
    "\n",
    "expected worst-case space complexity is O(N)"
   ]
  },
  {
   "cell_type": "markdown",
   "metadata": {},
   "source": [
    "#### Solution\n",
    "\n",
    "By sorting the array, we have guaranteed that P+R > Q and Q+R > P (because R is always the biggest). Now what remains, is the proof that P+Q > R, that can be found out by traversing the array. The chance to find such a combination is with three adjacent values as they provide the highest P and Q."
   ]
  },
  {
   "cell_type": "markdown",
   "metadata": {},
   "source": [
    "On one hand, there is no false triangular. Since the array is `sorted`, we already know :\n",
    "- A[index] < = A[index+1] <= A[index+2], and all values are positive. \n",
    "- A[index] <= A[index+2], so it must be true that A[index] < A[index+1] + A[index+2]. \n",
    "- Similarly, A[index+1] < A[index] + A[index+2]. \n",
    "- Finally, we ONLY need to check A[index]+A[index+1] > A[index+2] to confirm the existence of triangular."
   ]
  },
  {
   "cell_type": "code",
   "execution_count": null,
   "metadata": {},
   "outputs": [],
   "source": [
    "def solution(A):\n",
    "    \n",
    "    if len(A) < 3:\n",
    "        # if the list is too short\n",
    "        return 0\n",
    "    \n",
    "    A.sort()\n",
    "    for j in xrange(len(A[:-2])):\n",
    "        \n",
    "        if A[j] + A[j+1] > A[j+2]:\n",
    "            \n",
    "            return 1\n",
    "        \n",
    "        # The list is sorted, so A[index+i] >= A[index+2], where i>2. \n",
    "        # If A[index]+A[index+1] <= A[index+2], then A[index]+A[index+1] <= A[index+i], where i>=2. \n",
    "        # So there is no element in A[index+2:] that\n",
    "        # could be combined with A[index] and A[index+1] to be a triangular.\n",
    "    \n",
    "    # No triangular is found\n",
    "        \n",
    "    return 0"
   ]
  },
  {
   "cell_type": "markdown",
   "metadata": {},
   "source": [
    "## MaxProductOfThree\n",
    "\n",
    "\n",
    "A non-empty array A consisting of N integers is given. The product of triplet (P, Q, R) equates to A[P] * A[Q] * A[R] (0 ≤ P < Q < R < N).\n",
    "\n",
    "For example, array A such that:\n",
    "\n",
    "  A[0] = -3\n",
    "  A[1] = 1\n",
    "  A[2] = 2\n",
    "  A[3] = -2\n",
    "  A[4] = 5\n",
    "  A[5] = 6\n",
    "    \n",
    "contains the following example triplets:\n",
    "\n",
    "(0, 1, 2), product is −3 * 1 * 2 = −6\n",
    "\n",
    "(1, 2, 4), product is 1 * 2 * 5 = 10\n",
    "\n",
    "(2, 4, 5), product is 2 * 5 * 6 = 60\n",
    "\n",
    "Your goal is to find the maximal product of any triplet.\n",
    "\n",
    "Write a function:\n",
    "\n",
    "`def solution(A)`\n",
    "\n",
    "that, given a non-empty array A, returns the value of the maximal product of any triplet.\n",
    "\n",
    "For example, given array A such that:\n",
    "\n",
    "  A[0] = -3\n",
    "  A[1] = 1\n",
    "  A[2] = 2\n",
    "  A[3] = -2\n",
    "  A[4] = 5\n",
    "  A[5] = 6\n",
    "    \n",
    "the function should return 60, as the product of triplet (2, 4, 5) is maximal.\n",
    "\n",
    "Write an efficient algorithm for the following assumptions:\n",
    "\n",
    "N is an integer within the range [3..100,000];\n",
    "each element of array A is an integer within the range [−1,000..1,000].\n",
    "\n",
    "Complexity:\n",
    "    \n",
    "expected worst-case time complexity is O(N*log(N));\n",
    "\n",
    "expected worst-case space complexity is O(1)"
   ]
  },
  {
   "cell_type": "markdown",
   "metadata": {},
   "source": [
    "#### Solution\n",
    "\n",
    "After sorting the largest product can be found as a combination of the last three elements. Additionally, two negative numbers add to a positive, so by multiplying the two largest negatives with the largest positive, we get another candidate"
   ]
  },
  {
   "cell_type": "code",
   "execution_count": null,
   "metadata": {},
   "outputs": [],
   "source": [
    "def solution(A):\n",
    "    \n",
    "    if len(A) < 3:\n",
    "        raise Exception(\"Invalid input\")\n",
    "    \n",
    "    A.sort()\n",
    "    \n",
    "    return max(A[0]*A[1]*A[-1],A[-1]*A[-2]*A[-3])        "
   ]
  }
 ],
 "metadata": {
  "kernelspec": {
   "display_name": "Python 2",
   "language": "python",
   "name": "python2"
  },
  "language_info": {
   "codemirror_mode": {
    "name": "ipython",
    "version": 2
   },
   "file_extension": ".py",
   "mimetype": "text/x-python",
   "name": "python",
   "nbconvert_exporter": "python",
   "pygments_lexer": "ipython2",
   "version": "2.7.13"
  }
 },
 "nbformat": 4,
 "nbformat_minor": 2
}
