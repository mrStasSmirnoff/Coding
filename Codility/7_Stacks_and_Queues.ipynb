{
 "cells": [
  {
   "cell_type": "markdown",
   "metadata": {},
   "source": [
    "I will start this section with some info and example taken from the codility pdf, which also be found in the repository"
   ]
  },
  {
   "cell_type": "markdown",
   "metadata": {},
   "source": [
    "### Stack\n",
    "#### Push and Pop"
   ]
  },
  {
   "cell_type": "code",
   "execution_count": null,
   "metadata": {},
   "outputs": [],
   "source": [
    "N = 5 # Just pick some random N\n",
    "stack = [0]*N\n",
    "size = 0\n",
    "\n",
    "def push(x):\n",
    "    global size\n",
    "    stack[size] = x\n",
    "    size += 1\n",
    "    \n",
    "def pop(x):\n",
    "    global size\n",
    "    size -= 1\n",
    "    return stack[size]"
   ]
  },
  {
   "cell_type": "markdown",
   "metadata": {},
   "source": [
    "### Queue\n",
    "#### Push and Pop"
   ]
  },
  {
   "cell_type": "code",
   "execution_count": null,
   "metadata": {},
   "outputs": [],
   "source": [
    "queue = [0]*N\n",
    "head,tail = 0,0\n",
    "\n",
    "def push(x):\n",
    "    global tail\n",
    "    tail = (tail + 1) \n",
    "    queue[tail] = x\n",
    "    \n",
    "def pop():\n",
    "    global head\n",
    "    head = head + 1\n",
    "    return queue[head]\n",
    "\n",
    "def size():\n",
    "    return (tail - head + N) % N\n",
    "\n",
    "def empty():\n",
    "    return head == tail"
   ]
  },
  {
   "cell_type": "markdown",
   "metadata": {},
   "source": [
    "#### Small introductory example\n",
    "\n",
    "Problem: You are given a zero-indexed array A consisting of n integers: a0, a1, . . . , an−1. Array A represents a scenario in a grocery store, and contains only 0s and/or 1s:\n",
    "\n",
    "• 0 represents the action of a new person joining the line in the grocery store,\n",
    "\n",
    "• 1 represents the action of the person at the front of the queue being served and leaving the line.\n",
    "\n",
    "The goal is to count the minimum number of people who should have been in the line before the above scenario, so that the scenario is possible (it is not possible to serve a person if the line is empty).\n"
   ]
  },
  {
   "cell_type": "markdown",
   "metadata": {},
   "source": [
    "#### Solution O(n): \n",
    "We should remember the size of the queue and carry out a simulation of\n",
    "people arriving at and leaving the grocery store. If the size of the queue becomes a negative number then that sets the lower limit for the number of people who had to stand in the line previously. We should find the smallest negative number to determine the size of the queue during the whole simulation."
   ]
  },
  {
   "cell_type": "code",
   "execution_count": null,
   "metadata": {},
   "outputs": [],
   "source": [
    "def grocery_store(A):\n",
    "    n = len(A)\n",
    "    size, result = 0,0\n",
    "    \n",
    "    for i in xrange(n):\n",
    "        \n",
    "        if A[i] == 0:\n",
    "            size += 1\n",
    "        else:\n",
    "            size -= 1\n",
    "            result = max(result, -size)\n",
    "    \n",
    "    return result"
   ]
  },
  {
   "cell_type": "markdown",
   "metadata": {},
   "source": [
    "## Brackets\n",
    "\n",
    "A string S consisting of N characters is considered to be properly nested if any of the following conditions is true:\n",
    "\n",
    "S is empty;\n",
    "\n",
    "S has the form \"(U)\" or \"[U]\" or \"{U}\" where U is a properly nested string;\n",
    "\n",
    "S has the form \"VW\" where V and W are properly nested strings.\n",
    "\n",
    "For example, the string \"{[()()]}\" is properly nested but \"([)()]\" is not.\n",
    "\n",
    "Write a function:\n",
    "\n",
    "`def solution(S)`\n",
    "\n",
    "that, given a string S consisting of N characters, returns 1 if S is properly nested and 0 otherwise.\n",
    "\n",
    "For example, given S = \"{[()()]}\", the function should return 1 and given S = \"([)()]\", the function should return 0, as explained above.\n",
    "\n",
    "Write an efficient algorithm for the following assumptions:\n",
    "\n",
    "N is an integer within the range [0..200,000];\n",
    "string S consists only of the following characters: \"(\", \"{\", \"[\", \"]\", \"}\" and/or \")\".\n",
    "\n",
    "Complexity:\n",
    "expected worst-case time complexity is O(N);\n",
    "\n",
    "expected worst-case space complexity is O(N)"
   ]
  },
  {
   "cell_type": "code",
   "execution_count": null,
   "metadata": {},
   "outputs": [],
   "source": [
    "def solution(S):\n",
    "    \n",
    "    # Initialize array where we going to record brackets\n",
    "    \n",
    "    A = ['']*(len(S) + 1)\n",
    "    index = 0 # we need it in order to keep track of open-closed brackets\n",
    "    \n",
    "    for bracket in S:\n",
    "        \n",
    "        if (bracket == ')' and A[index] == '(') or (bracket==']' and A[index]=='[') \\\n",
    "        or (bracket=='}' and A[index]=='{'):\n",
    "            index -= 1\n",
    "        \n",
    "        else:\n",
    "            index += 1\n",
    "            A[index] = bracket\n",
    "            \n",
    "    if index==0:\n",
    "        return 1\n",
    "    else:\n",
    "        return 0"
   ]
  },
  {
   "cell_type": "code",
   "execution_count": null,
   "metadata": {},
   "outputs": [],
   "source": [
    "def isValidPair(left, right):\n",
    "    \n",
    "    if left == '(' and right == ')':\n",
    "        return True\n",
    "    if left == '[' and right == ']':\n",
    "        return True \n",
    "    if left == '{' and right == '}':\n",
    "        return True   \n",
    "    return False\n",
    " \n",
    "def solution(S):\n",
    "    \n",
    "    stack = []\n",
    "     \n",
    "    for bracket in S:\n",
    "        if bracket == '[' or bracket == '{' or bracket == '(':\n",
    "            stack.append(bracket)\n",
    "        else:\n",
    "            if len(stack) == 0:\n",
    "                return 0\n",
    "            \n",
    "            last = stack.pop()\n",
    "            if not isValidPair(last, bracket):\n",
    "                return 0\n",
    "     \n",
    "    if len(stack) != 0:\n",
    "        return 0\n",
    "             \n",
    "    return 1"
   ]
  }
 ],
 "metadata": {
  "kernelspec": {
   "display_name": "Python 2",
   "language": "python",
   "name": "python2"
  },
  "language_info": {
   "codemirror_mode": {
    "name": "ipython",
    "version": 2
   },
   "file_extension": ".py",
   "mimetype": "text/x-python",
   "name": "python",
   "nbconvert_exporter": "python",
   "pygments_lexer": "ipython2",
   "version": "2.7.13"
  }
 },
 "nbformat": 4,
 "nbformat_minor": 2
}
