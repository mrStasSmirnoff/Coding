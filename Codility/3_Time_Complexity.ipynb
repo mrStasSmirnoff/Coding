{
 "cells": [
  {
   "cell_type": "markdown",
   "metadata": {},
   "source": [
    "## FrogJmp"
   ]
  },
  {
   "cell_type": "markdown",
   "metadata": {},
   "source": [
    "A small frog wants to get to the other side of the road. The frog is currently located at position X and wants to get to a position greater than or equal to Y. The small frog always jumps a fixed distance, D.\n",
    "\n",
    "Count the minimal number of jumps that the small frog must perform to reach its target.\n",
    "\n",
    "Write a function:\n",
    "\n",
    "`int solution(int X, int Y, int D);`\n",
    "\n",
    "that, given three integers X, Y and D, returns the minimal number of jumps from position X to a position equal to or greater than Y.\n",
    "\n",
    "For example, given:\n",
    "\n",
    "  X = 10,\n",
    "  Y = 85,\n",
    "  D = 30\n",
    "the function should return 3, because the frog will be positioned as follows:\n",
    "\n",
    "after the first jump, at position 10 + 30 = 40\n",
    "after the second jump, at position 10 + 30 + 30 = 70\n",
    "after the third jump, at position 10 + 30 + 30 + 30 = 100\n",
    "\n",
    "Write an efficient algorithm for the following assumptions:\n",
    "\n",
    "X, Y and D are integers within the range [1..1,000,000,000];\n",
    "X ≤ Y."
   ]
  },
  {
   "cell_type": "markdown",
   "metadata": {},
   "source": [
    "#### Solution"
   ]
  },
  {
   "cell_type": "code",
   "execution_count": null,
   "metadata": {},
   "outputs": [],
   "source": [
    "X = 10\n",
    "Y = 85\n",
    "D = 30\n",
    "\n",
    "def solution(X,Y,D):\n",
    "    \n",
    "    if Y < X or D <= 0:\n",
    "        raise Exception(\"Invalid arguments\")\n",
    "    \n",
    "    dist = Y - X\n",
    "    \n",
    "    if dist % D == 0:\n",
    "        return dist / D\n",
    "    \n",
    "    else:\n",
    "        return (dist/D)+1\n",
    "        \n",
    "\n",
    "solution(X,Y,D)"
   ]
  },
  {
   "cell_type": "markdown",
   "metadata": {},
   "source": [
    "#### Very elegant solution taken from the internet with the comments:\n",
    "\n",
    "Citation: \"It’s a well-known trick to integer-divide positive num by positive divisor and round up: (num+(divisor-1))/divisor. This trick was around the time when processors \n",
    "were slow and compilers were dumb\""
   ]
  },
  {
   "cell_type": "code",
   "execution_count": null,
   "metadata": {},
   "outputs": [],
   "source": [
    "def solution(X,Y,D):\n",
    "    \n",
    "    return (Y-X + D-1)/D \n",
    "\n",
    "solution(X,Y,D)"
   ]
  },
  {
   "cell_type": "markdown",
   "metadata": {},
   "source": [
    "## PermMissingElem"
   ]
  },
  {
   "cell_type": "markdown",
   "metadata": {},
   "source": [
    "An array A consisting of N different integers is given. The array contains integers in the range [1..(N + 1)], which means that exactly one element is missing.\n",
    "\n",
    "Your goal is to find that missing element.\n",
    "\n",
    "Write a function:\n",
    "\n",
    "`def solution(A)`\n",
    "\n",
    "that, given an array A, returns the value of the missing element.\n",
    "\n",
    "For example, given array A such that:\n",
    "\n",
    "  A[0] = 2\n",
    "  \n",
    "  A[1] = 3\n",
    "  \n",
    "  A[2] = 1\n",
    "  \n",
    "  A[3] = 5\n",
    "  \n",
    "the function should return 4, as it is the missing element.\n",
    "\n",
    "Write an efficient algorithm for the following assumptions:\n",
    "\n",
    "N is an integer within the range [0..100,000];\n",
    "the elements of A are all distinct;\n",
    "each element of array A is an integer within the range [1..(N + 1)].\n",
    "Copyright 2009–2018 by Codility Limited. All Rights Reserved. Unauthorized copying, publication or disclosure prohibited."
   ]
  },
  {
   "cell_type": "code",
   "execution_count": null,
   "metadata": {},
   "outputs": [],
   "source": [
    "A = [2, 3, 1, 5]\n",
    "\n",
    "def solution(A):\n",
    "    \n",
    "    N = len(A) + 1\n",
    "    \n",
    "    should_be = (N + 1)*N / 2  # This is the sum of all element in an array with all elements\n",
    "    \n",
    "    actually = sum([+x for x in A]) # Sum actual elements in array\n",
    "    \n",
    "    # Since we are only missing one element in a list, the difference between should_be \n",
    "    # and actually is an answer we are looking for\n",
    "\n",
    "    return should_be - actually"
   ]
  },
  {
   "cell_type": "code",
   "execution_count": null,
   "metadata": {},
   "outputs": [],
   "source": [
    "def solution(A):\n",
    "    \n",
    "    N = len(A)\n",
    "    current_sum = sum(A)\n",
    "    \n",
    "    # Could use in-build 'range' function\n",
    "    should_be = sum(range(1,N + 2)) # N+2 because of the definition of 'range' in Python\n",
    "    \n",
    "    return should_be - current_sum"
   ]
  },
  {
   "cell_type": "markdown",
   "metadata": {},
   "source": [
    "#### Solution that is used XOR operator\n",
    "\n",
    "Citation: \"You might use addition and subtraction, because x + a – a = x. Here I used the XOR operation, with x XOR a XOR a = x. One great advantage of XOR over addition and subtraction is that, XOR never lead  to overflow. \"\n"
   ]
  },
  {
   "cell_type": "code",
   "execution_count": null,
   "metadata": {},
   "outputs": [],
   "source": [
    "def solution(A):\n",
    "    \n",
    "    length = len(A)\n",
    "    \n",
    "    xor_sum = 0\n",
    "    \n",
    "    for index in range(0, length):\n",
    "    \n",
    "        xor_sum = xor_sum ^ A[index] ^ (index + 1)\n",
    "    \n",
    "    return xor_sum^(length + 1)\n",
    "\n",
    "solution(A)"
   ]
  },
  {
   "cell_type": "code",
   "execution_count": null,
   "metadata": {},
   "outputs": [],
   "source": [
    "# The best explanation is given by the guy KIM in \n",
    "# https://codesays.com/2014/solution-to-perm-missing-elem-by-codility/"
   ]
  },
  {
   "cell_type": "markdown",
   "metadata": {},
   "source": [
    "## TapeEquilibrium"
   ]
  },
  {
   "cell_type": "markdown",
   "metadata": {},
   "source": [
    "A non-empty array A consisting of N integers is given. Array A represents numbers on a tape.\n",
    "\n",
    "Any integer P, such that 0 < P < N, splits this tape into two non-empty parts: A[0], A[1], ..., A[P − 1] and A[P], A[P + 1], ..., A[N − 1].\n",
    "\n",
    "The difference between the two parts is the value of: |(A[0] + A[1] + ... + A[P − 1]) − (A[P] + A[P + 1] + ... + A[N − 1])|\n",
    "\n",
    "In other words, it is the absolute difference between the sum of the first part and the sum of the second part.\n",
    "\n",
    "For example, consider array A such that:\n",
    "\n",
    "  A[0] = 3\n",
    "  \n",
    "  A[1] = 1\n",
    "  \n",
    "  A[2] = 2\n",
    "  \n",
    "  A[3] = 4\n",
    "  \n",
    "  A[4] = 3\n",
    "\n",
    "We can split this tape in four places:\n",
    "\n",
    "P = 1, difference = |3 − 10| = 7\n",
    "\n",
    "P = 2, difference = |4 − 9| = 5\n",
    "\n",
    "P = 3, difference = |6 − 7| = 1\n",
    "\n",
    "P = 4, difference = |10 − 3| = 7 \n",
    "\n",
    "Write a function:\n",
    "\n",
    "`def solution(A)`\n",
    "\n",
    "that, given a non-empty array A of N integers, returns the minimal difference that can be achieved.\n",
    "\n",
    "For example, given:\n",
    "\n",
    "  A[0] = 3\n",
    "  \n",
    "  A[1] = 1\n",
    "  \n",
    "  A[2] = 2\n",
    "  \n",
    "  A[3] = 4\n",
    "  \n",
    "  A[4] = 3\n",
    "  \n",
    "the function should return 1, as explained above.\n",
    "\n",
    "Write an efficient algorithm for the following assumptions:\n",
    "\n",
    "N is an integer within the range [2..100,000];\n",
    "each element of array A is an integer within the range [−1,000..1,000]."
   ]
  },
  {
   "cell_type": "code",
   "execution_count": null,
   "metadata": {},
   "outputs": [],
   "source": [
    "A = [3,1,2,4,3]\n",
    "\n",
    "def solution(A):\n",
    "    \n",
    "    left_sum = A[0]\n",
    "    right_sum = sum(A[1:])\n",
    "    difference = abs(left_sum - right_sum)\n",
    "    \n",
    "    for j in range(1,len(A)-1):\n",
    "        \n",
    "        left_sum += A[j]\n",
    "        right_sum -= A[j]\n",
    "        intermid_difference = abs(left_sum - right_sum)\n",
    "        \n",
    "        if (intermid_difference<difference):\n",
    "            difference = intermid_difference\n",
    "                \n",
    "    return difference"
   ]
  },
  {
   "cell_type": "code",
   "execution_count": null,
   "metadata": {},
   "outputs": [],
   "source": [
    "def solution(A):\n",
    "    \n",
    "    left_sum = A[0]\n",
    "    right_sum = sum(A[1:])\n",
    "    difference = abs(left_sum - right_sum)\n",
    "    \n",
    "    for j in range(1, len(A) - 1):\n",
    "        \n",
    "        left_sum += A[j]\n",
    "        right_sum -= A[j]\n",
    "        \n",
    "        tmp_diff = abs(left_sum - right_sum)\n",
    "        \n",
    "        if tmp_diff < difference:\n",
    "            difference = tmp_diff\n",
    "    \n",
    "    return difference "
   ]
  }
 ],
 "metadata": {
  "kernelspec": {
   "display_name": "Python 2",
   "language": "python",
   "name": "python2"
  },
  "language_info": {
   "codemirror_mode": {
    "name": "ipython",
    "version": 2
   },
   "file_extension": ".py",
   "mimetype": "text/x-python",
   "name": "python",
   "nbconvert_exporter": "python",
   "pygments_lexer": "ipython2",
   "version": "2.7.13"
  }
 },
 "nbformat": 4,
 "nbformat_minor": 2
}
