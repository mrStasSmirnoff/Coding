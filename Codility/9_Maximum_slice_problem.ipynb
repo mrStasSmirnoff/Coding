{
 "cells": [
  {
   "cell_type": "markdown",
   "metadata": {},
   "source": [
    "## MaxProfit"
   ]
  },
  {
   "cell_type": "markdown",
   "metadata": {},
   "source": [
    "An array A consisting of N integers is given. It contains daily prices of a stock share for a period of N consecutive days. If a single share was bought on day P and sold on day Q, where 0 ≤ P ≤ Q < N, then the profit of such transaction is equal to A[Q] − A[P], provided that A[Q] ≥ A[P]. Otherwise, the transaction brings loss of A[P] − A[Q].\n",
    "\n",
    "For example, consider the following array A consisting of six elements such that:\n",
    "\n",
    "  A[0] = 23171\n",
    "  \n",
    "  A[1] = 21011\n",
    "  \n",
    "  A[2] = 21123\n",
    "  \n",
    "  A[3] = 21366\n",
    "  \n",
    "  A[4] = 21013\n",
    "  \n",
    "  A[5] = 21367\n",
    "\n",
    "If a share was bought on day 0 and sold on day 2, a loss of 2048 would occur because A[2] − A[0] = 21123 − 23171 = −2048. If a share was bought on day 4 and sold on day 5, a profit of 354 would occur because A[5] − A[4] = 21367 − 21013 = 354. Maximum possible profit was 356. It would occur if a share was bought on day 1 and sold on day 5.\n",
    "\n",
    "Write a function,\n",
    "\n",
    "`def solution(A)`\n",
    "\n",
    "that, given an array A consisting of N integers containing daily prices of a stock share for a period of N consecutive days, returns the maximum possible profit from one transaction during this period. The function should return 0 if it was impossible to gain any profit."
   ]
  },
  {
   "cell_type": "code",
   "execution_count": null,
   "metadata": {},
   "outputs": [],
   "source": [
    "import math\n",
    "\n",
    "def solution(A):\n",
    "    \n",
    "    profit = 0\n",
    "    lowest_value = math.inf\n",
    "    \n",
    "    for todays_value in A:\n",
    "        \n",
    "        lowest_value = min(lowest_value, todays_value)\n",
    "        profit = max(profit, todays_value - lowest_value)\n",
    "    \n",
    "    return profit   "
   ]
  },
  {
   "cell_type": "markdown",
   "metadata": {},
   "source": [
    "## MaxSliceSum"
   ]
  },
  {
   "cell_type": "markdown",
   "metadata": {},
   "source": [
    "A non-empty array A consisting of N integers is given. A pair of integers (P, Q), such that 0 ≤ P ≤ Q < N, is called a slice of array A. The sum of a slice (P, Q) is the total of A[P] + A[P+1] + ... + A[Q].\n",
    "\n",
    "Write a function:\n",
    "\n",
    "`def solution(A)`\n",
    "\n",
    "that, given an array A consisting of N integers, returns the maximum sum of any slice of A."
   ]
  },
  {
   "cell_type": "code",
   "execution_count": null,
   "metadata": {},
   "outputs": [],
   "source": [
    "import math\n",
    "\n",
    "def solution(A):\n",
    "    \n",
    "    max_slice_ending_here = max_slice = - math.inf\n",
    "     \n",
    "    \n",
    "    for element in A:\n",
    "        max_slice_ending_here = max(element, max_slice_ending_here+element)\n",
    "        max_slice = max(max_slice, max_slice_ending_here)\n",
    "    \n",
    "    return max_slice        "
   ]
  },
  {
   "cell_type": "code",
   "execution_count": null,
   "metadata": {},
   "outputs": [],
   "source": [
    "def solution(A):\n",
    "    max_ending = max_slice = -1000000\n",
    "    for a in A:\n",
    "        max_ending = max(a, max_ending +a)\n",
    "        max_slice = max(max_slice, max_ending)\n",
    "         \n",
    "    return max_slice"
   ]
  }
 ],
 "metadata": {
  "kernelspec": {
   "display_name": "Python 3",
   "language": "python",
   "name": "python3"
  },
  "language_info": {
   "codemirror_mode": {
    "name": "ipython",
    "version": 3
   },
   "file_extension": ".py",
   "mimetype": "text/x-python",
   "name": "python",
   "nbconvert_exporter": "python",
   "pygments_lexer": "ipython3",
   "version": "3.5.3"
  }
 },
 "nbformat": 4,
 "nbformat_minor": 2
}
