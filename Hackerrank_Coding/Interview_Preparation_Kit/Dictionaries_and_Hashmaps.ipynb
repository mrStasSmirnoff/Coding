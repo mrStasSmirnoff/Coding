{
 "cells": [
  {
   "cell_type": "markdown",
   "metadata": {},
   "source": [
    "# Dictionaries and Hashmaps "
   ]
  },
  {
   "cell_type": "markdown",
   "metadata": {},
   "source": [
    "## 1) Hash Tables: Ransom Note\n",
    "\n",
    "**Task:**\n",
    "\n",
    "Harold is a kidnapper who wrote a ransom note, but now he is worried it will be traced back to him through his handwriting. He found a magazine and wants to know if he can cut out whole words from it and use them to create an untraceable replica of his ransom note. The words in his note are case-sensitive and he must use only whole words available in the magazine. He cannot use substrings or concatenation to create the words he needs.\n",
    "\n",
    "Given the words in the magazine and the words in the ransom note, print *Yes* if he can replicate his ransom note exactly using whole words from the magazine; otherwise, print No.\n",
    "\n",
    "For example, the note is \"Attack at dawn\". The magazine contains only \"attack at dawn\". The magazine has all the right words, but there's a case mismatch. The answer is *No*.\n",
    "\n",
    "**Output:**\n",
    "\n",
    "Print: *Yes* if he can use the magazine to create an untraceable replica of his ransom note. Otherwise, print *No*."
   ]
  },
  {
   "cell_type": "code",
   "execution_count": 147,
   "metadata": {},
   "outputs": [],
   "source": [
    "magazine = 'ive got a lovely bunch of coconuts'\n",
    "note = 'ive got some coconuts'"
   ]
  },
  {
   "cell_type": "code",
   "execution_count": null,
   "metadata": {},
   "outputs": [],
   "source": [
    "#!/bin/python3\n",
    "\n",
    "from collections import Counter\n",
    "import math\n",
    "import os\n",
    "import random\n",
    "import re\n",
    "import sys\n",
    "\n",
    "# Complete the checkMagazine function below.\n",
    "# This is the solution with 'Counter' below I provi another one\n",
    "# without in-build function\n",
    "def checkMagazine(magazine, note):\n",
    "    \n",
    "    \n",
    "    words_count = Counter(magazine)\n",
    "    \n",
    "    for word in note:\n",
    "        \n",
    "        if words_count[word] > 0:\n",
    "            words_count[word] -=1\n",
    "            \n",
    "        else:\n",
    "            return False\n",
    "    \n",
    "    return True\n",
    "                \n",
    "    \n",
    "if __name__ == '__main__':\n",
    "    mn = input().split()\n",
    "\n",
    "    m = int(mn[0])\n",
    "\n",
    "    n = int(mn[1])\n",
    "\n",
    "    magazine = input().rstrip().split()\n",
    "\n",
    "    note = input().rstrip().split()\n",
    "\n",
    "    result = checkMagazine(magazine, note)\n",
    "    \n",
    "    if result:\n",
    "        print('Yes')\n",
    "        \n",
    "    else:\n",
    "        print('No')"
   ]
  },
  {
   "cell_type": "code",
   "execution_count": 158,
   "metadata": {},
   "outputs": [],
   "source": [
    "def checkMagazine(magazine, note):\n",
    "    \n",
    "    # Create a dictionary\n",
    "    d = {}\n",
    "    \n",
    "    for mag_word in magazine:\n",
    "        \n",
    "        # Initialize and count words in 'magazine'\n",
    "        if mag_word not in d:    \n",
    "        \n",
    "            d[mag_word] = 0\n",
    "        \n",
    "        d[mag_word] += 1\n",
    "            \n",
    "        \n",
    "    for mag_word in note:\n",
    "        \n",
    "        if mag_word in magazine and d[mag_word] > 0:\n",
    "            \n",
    "            d[mag_word] -=1\n",
    "            \n",
    "            \n",
    "        else: \n",
    "            \n",
    "            return False  \n",
    "    \n",
    "    return True"
   ]
  },
  {
   "cell_type": "markdown",
   "metadata": {},
   "source": [
    "## 2) Two Strings\n",
    "\n",
    "\n",
    "**Task**:\n",
    "\n",
    "Given two strings, determine if they share a common substring. A substring may be as small as one character.\n",
    "\n",
    "For example, the words \"a\", \"and\", \"art\" share the common substring $a$. The words \"be\" and \"cat\" do not share a substring."
   ]
  },
  {
   "cell_type": "code",
   "execution_count": 17,
   "metadata": {},
   "outputs": [
    {
     "name": "stdout",
     "output_type": "stream",
     "text": [
      "{'e', 'r', 'k', 's', 'o', 'f'}\n"
     ]
    }
   ],
   "source": [
    "test_str1 = 'GeeksforGeeks'\n",
    "test_str2 = 'Codefreaks'\n",
    "print(set.intersection(set(test_str1),set(test_str2)))"
   ]
  },
  {
   "cell_type": "code",
   "execution_count": null,
   "metadata": {},
   "outputs": [],
   "source": [
    "#!/bin/python3\n",
    "\n",
    "import math\n",
    "import os\n",
    "import random\n",
    "import re\n",
    "import sys\n",
    "\n",
    "# Complete the twoStrings function below.\n",
    "def twoStrings(s1, s2):\n",
    "    \n",
    "    # We are going to use set() which returns unique elements in the list\n",
    "    # and in-build intersection python library\n",
    "    \n",
    "    set_1 = set(s1)\n",
    "    set_2 = set(s2)\n",
    "    \n",
    "    if set.intersection(set_1,set_2):\n",
    "        return \"YES\"\n",
    "    return \"NO\"\n",
    "    \n",
    "\n",
    "if __name__ == '__main__':\n",
    "    fptr = open(os.environ['OUTPUT_PATH'], 'w')\n",
    "\n",
    "    q = int(input())\n",
    "\n",
    "    for q_itr in range(q):\n",
    "        s1 = input()\n",
    "\n",
    "        s2 = input()\n",
    "\n",
    "        result = twoStrings(s1, s2)\n",
    "\n",
    "        fptr.write(result + '\\n')\n",
    "\n",
    "    fptr.close()\n"
   ]
  },
  {
   "cell_type": "code",
   "execution_count": 18,
   "metadata": {},
   "outputs": [],
   "source": [
    "# Another, less python and more naive implementation\n",
    "\n",
    "def twoStrings(s1, s2):\n",
    "    \n",
    "    res = ''\n",
    "    for i in s1:\n",
    "        \n",
    "        if i in s2 and not i in res:\n",
    "            res += i\n",
    "            \n",
    "    if res:\n",
    "        return 'YES'\n",
    "    \n",
    "    return 'NO'"
   ]
  },
  {
   "cell_type": "markdown",
   "metadata": {},
   "source": [
    "## 3) Sherlock and Anagrams\n",
    "\n"
   ]
  },
  {
   "cell_type": "markdown",
   "metadata": {},
   "source": [
    "**Task**\n",
    "\n",
    "Two strings are anagrams of each other if the letters of one string can be rearranged to form the other string. Given a string, find the number of pairs of substrings of the string that are anagrams of each other."
   ]
  },
  {
   "cell_type": "code",
   "execution_count": null,
   "metadata": {},
   "outputs": [],
   "source": [
    "#!/bin/python3\n",
    "\n",
    "import math\n",
    "import os\n",
    "import random\n",
    "import re\n",
    "import sys\n",
    "\n",
    "# Complete the sherlockAndAnagrams function below.\n",
    "def sherlockAndAnagrams(s):\n",
    "\n",
    "if __name__ == '__main__':\n",
    "    fptr = open(os.environ['OUTPUT_PATH'], 'w')\n",
    "\n",
    "    q = int(input())\n",
    "\n",
    "    for q_itr in range(q):\n",
    "        s = input()\n",
    "\n",
    "        result = sherlockAndAnagrams(s)\n",
    "\n",
    "        fptr.write(str(result) + '\\n')\n",
    "\n",
    "    fptr.close()\n"
   ]
  }
 ],
 "metadata": {
  "kernelspec": {
   "display_name": "Python 3",
   "language": "python",
   "name": "python3"
  },
  "language_info": {
   "codemirror_mode": {
    "name": "ipython",
    "version": 3
   },
   "file_extension": ".py",
   "mimetype": "text/x-python",
   "name": "python",
   "nbconvert_exporter": "python",
   "pygments_lexer": "ipython3",
   "version": "3.5.3"
  }
 },
 "nbformat": 4,
 "nbformat_minor": 2
}
