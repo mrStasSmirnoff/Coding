{
 "cells": [
  {
   "cell_type": "markdown",
   "metadata": {},
   "source": [
    "## 1) Recursion: Fibonacci Numbers"
   ]
  },
  {
   "cell_type": "code",
   "execution_count": null,
   "metadata": {},
   "outputs": [],
   "source": [
    "def fibonacci(n):\n",
    "\n",
    "    if n == 0:\n",
    "        return 0\n",
    "    elif n == 1: \n",
    "        return 1\n",
    "    else:\n",
    "        return fibonacci(n-2) + fibonacci(n-1)\n",
    "\n",
    "n = int(input())\n",
    "print(fibonacci(n))"
   ]
  },
  {
   "cell_type": "markdown",
   "metadata": {},
   "source": [
    "However, using the recursion is a quite bad idea because of the heavy calculations. We would like to have some alternatives. By simply cashing already calculated values we speed-up computations dramatically."
   ]
  },
  {
   "cell_type": "code",
   "execution_count": null,
   "metadata": {},
   "outputs": [],
   "source": [
    "fibonacci_cache = {}\n",
    "\n",
    "def fibonacci(n):\n",
    "    \n",
    "    # If we have cache the value, then return it  \n",
    "    if n in fibonacci_cache:\n",
    "        return fibonacci_cache[n]\n",
    "    \n",
    "    # Compute the Nth term\n",
    "    \n",
    "    if n == 0:\n",
    "        value = 0\n",
    "    \n",
    "    elif n == 1: \n",
    "        value =  1\n",
    "    \n",
    "    else:\n",
    "        value = fibonacci(n-2) + fibonacci(n-1)\n",
    "    \n",
    "    # Cache the value\n",
    "    \n",
    "    fibonacci_cache[n] = value\n",
    "    \n",
    "    return value"
   ]
  }
 ],
 "metadata": {
  "kernelspec": {
   "display_name": "Python 3",
   "language": "python",
   "name": "python3"
  },
  "language_info": {
   "codemirror_mode": {
    "name": "ipython",
    "version": 3
   },
   "file_extension": ".py",
   "mimetype": "text/x-python",
   "name": "python",
   "nbconvert_exporter": "python",
   "pygments_lexer": "ipython3",
   "version": "3.5.3"
  }
 },
 "nbformat": 4,
 "nbformat_minor": 2
}
