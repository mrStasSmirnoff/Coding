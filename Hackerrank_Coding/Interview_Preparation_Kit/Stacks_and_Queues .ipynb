{
 "cells": [
  {
   "cell_type": "markdown",
   "metadata": {},
   "source": [
    "I will start this section with some info and example taken from the [codility](https://codility.com/media/train/5-Stacks.pdf)"
   ]
  },
  {
   "cell_type": "markdown",
   "metadata": {},
   "source": [
    "### Stack\n",
    "#### Push and Pop"
   ]
  },
  {
   "cell_type": "code",
   "execution_count": 9,
   "metadata": {},
   "outputs": [],
   "source": [
    "N = 5 # Just pick some random N\n",
    "stack = [0]*N\n",
    "size = 0\n",
    "\n",
    "def push(x):\n",
    "    global size\n",
    "    stack[size] = x\n",
    "    size += 1\n",
    "    \n",
    "def pop(x):\n",
    "    global size\n",
    "    size -= 1\n",
    "    return stack[size]"
   ]
  },
  {
   "cell_type": "markdown",
   "metadata": {},
   "source": [
    "### Queue\n",
    "#### Push and Pop"
   ]
  },
  {
   "cell_type": "code",
   "execution_count": 78,
   "metadata": {},
   "outputs": [],
   "source": [
    "queue = [0]*N\n",
    "head,tail = 0,0\n",
    "\n",
    "def push(x):\n",
    "    global tail\n",
    "    tail = (tail + 1) \n",
    "    queue[tail] = x\n",
    "    \n",
    "def pop():\n",
    "    global head\n",
    "    head = head + 1\n",
    "    return queue[head]\n",
    "\n",
    "def size():\n",
    "    return (tail - head + N) % N\n",
    "\n",
    "def empty():\n",
    "    return head == tail"
   ]
  },
  {
   "cell_type": "markdown",
   "metadata": {},
   "source": [
    "## 1) Balanced Brackets\n",
    "\n",
    "A bracket is considered to be any one of the following characters: (, ), {, }, [, or ].\n",
    "\n",
    "Two brackets are considered to be a matched pair if the an opening bracket (i.e., (, [, or {) occurs to the left of a closing bracket (i.e., ), ], or }) of the exact same type. There are three types of matched pairs of brackets: [], {}, and ().\n",
    "\n",
    "A matching pair of brackets is not balanced if the set of brackets it encloses are not matched. For example, {[(])} is not balanced because the contents in between { and } are not balanced. The pair of square brackets encloses a single, unbalanced opening bracket, (, and the pair of parentheses encloses a single, unbalanced closing square bracket, ]."
   ]
  },
  {
   "cell_type": "code",
   "execution_count": null,
   "metadata": {},
   "outputs": [],
   "source": [
    "#!/bin/python3\n",
    "\n",
    "import math\n",
    "import os\n",
    "import random\n",
    "import re\n",
    "import sys\n",
    "\n",
    "# Complete the isBalanced function below.\n",
    "def isBalanced(s):\n",
    "    \n",
    "    # Initialize array where we going to record brackets\n",
    "    A = ['']*(len(s) + 1)\n",
    "    index = 0 # we need it in order to keep track of open-closed brackets\n",
    "    \n",
    "    for bracket in s:\n",
    "        \n",
    "        if (bracket == ')' and A[index] == '(') or (bracket == ']' and A[index] == '[') \\\n",
    "        or (bracket == '}' and A[index] == '{'):\n",
    "            \n",
    "            index -= 1\n",
    "            \n",
    "        else: \n",
    "            index += 1\n",
    "            A[index] = bracket\n",
    "            \n",
    "    if index == 0:\n",
    "        return 'YES'\n",
    "    else:\n",
    "        return 'NO'\n",
    "\n",
    "    \n",
    "    \n",
    "\n",
    "if __name__ == '__main__':\n",
    "    fptr = open(os.environ['OUTPUT_PATH'], 'w')\n",
    "\n",
    "    t = int(input())\n",
    "\n",
    "    for t_itr in range(t):\n",
    "        s = input()\n",
    "\n",
    "        result = isBalanced(s)\n",
    "\n",
    "        fptr.write(result + '\\n')\n",
    "\n",
    "    fptr.close()\n"
   ]
  }
 ],
 "metadata": {
  "kernelspec": {
   "display_name": "Python 3",
   "language": "python",
   "name": "python3"
  },
  "language_info": {
   "codemirror_mode": {
    "name": "ipython",
    "version": 3
   },
   "file_extension": ".py",
   "mimetype": "text/x-python",
   "name": "python",
   "nbconvert_exporter": "python",
   "pygments_lexer": "ipython3",
   "version": "3.5.3"
  }
 },
 "nbformat": 4,
 "nbformat_minor": 2
}
