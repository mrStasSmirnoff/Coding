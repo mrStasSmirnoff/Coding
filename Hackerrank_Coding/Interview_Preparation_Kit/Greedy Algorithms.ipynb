{
 "cells": [
  {
   "cell_type": "markdown",
   "metadata": {},
   "source": [
    "https://www.hackerrank.com/interview/interview-preparation-kit/greedy-algorithms/challenges"
   ]
  },
  {
   "cell_type": "markdown",
   "metadata": {},
   "source": [
    "## 1) Minimum Absolute Difference in an Array \n",
    "\n",
    "Given an array of integers, find and print the minimum absolute difference between any two elements in the array."
   ]
  },
  {
   "cell_type": "code",
   "execution_count": null,
   "metadata": {},
   "outputs": [],
   "source": [
    "#!/bin/python3\n",
    "\n",
    "import math\n",
    "import os\n",
    "import random\n",
    "import re\n",
    "import sys\n",
    "\n",
    "# Complete the minimumAbsoluteDifference function below.\n",
    "def minimumAbsoluteDifference(arr):\n",
    "    \n",
    "    arr.sort()\n",
    "    \n",
    "    diff = []\n",
    "    \n",
    "    for j in range(len(arr)-1):\n",
    "        \n",
    "        difference = arr[j+1] - arr[j]\n",
    "        \n",
    "        diff.append(difference)\n",
    "        \n",
    "            \n",
    "    return min(diff)\n",
    "        \n",
    "\n",
    "if __name__ == '__main__':\n",
    "    fptr = open(os.environ['OUTPUT_PATH'], 'w')\n",
    "\n",
    "    n = int(input())\n",
    "\n",
    "    arr = list(map(int, input().rstrip().split()))\n",
    "\n",
    "    result = minimumAbsoluteDifference(arr)\n",
    "\n",
    "    fptr.write(str(result) + '\\n')\n",
    "\n",
    "    fptr.close()\n"
   ]
  },
  {
   "cell_type": "markdown",
   "metadata": {},
   "source": [
    "## 2) Luck Balance\n",
    "\n",
    "Lena is preparing for an important coding competition that is preceded by a number of sequential preliminary contests. She believes in \"saving luck\", and wants to check her theory."
   ]
  },
  {
   "cell_type": "code",
   "execution_count": null,
   "metadata": {},
   "outputs": [],
   "source": [
    "#!/bin/python3\n",
    "\n",
    "import math\n",
    "import os\n",
    "import random\n",
    "import re\n",
    "import sys\n",
    "\n",
    "# Complete the luckBalance function below.\n",
    "def luckBalance(k, contests):\n",
    "    \n",
    "    # less luck contests first (increasing order)\n",
    "    contests = sorted(contests, reverse = True)\n",
    "    karma_balance = 0\n",
    "    \n",
    "    for luck_points, importance in contests:\n",
    "        \n",
    "        if importance == 0:\n",
    "            \n",
    "            karma_balance += luck_points\n",
    "            continue\n",
    "            \n",
    "        if k > 0:\n",
    "            \n",
    "            karma_balance += luck_points\n",
    "            k -= 1\n",
    "    \n",
    "        else:\n",
    "            karma_balance -= luck_points\n",
    "    \n",
    "    return karma_balance\n",
    "\n",
    "\n",
    "\n",
    "if __name__ == '__main__':\n",
    "    fptr = open(os.environ['OUTPUT_PATH'], 'w')\n",
    "\n",
    "    nk = input().split()\n",
    "\n",
    "    n = int(nk[0])\n",
    "\n",
    "    k = int(nk[1])\n",
    "\n",
    "    contests = []\n",
    "\n",
    "    for _ in range(n):\n",
    "        contests.append(list(map(int, input().rstrip().split())))\n",
    "\n",
    "    result = luckBalance(k, contests)\n",
    "\n",
    "    fptr.write(str(result) + '\\n')\n",
    "\n",
    "    fptr.close()\n"
   ]
  }
 ],
 "metadata": {
  "kernelspec": {
   "display_name": "Python 3",
   "language": "python",
   "name": "python3"
  },
  "language_info": {
   "codemirror_mode": {
    "name": "ipython",
    "version": 3
   },
   "file_extension": ".py",
   "mimetype": "text/x-python",
   "name": "python",
   "nbconvert_exporter": "python",
   "pygments_lexer": "ipython3",
   "version": "3.5.3"
  }
 },
 "nbformat": 4,
 "nbformat_minor": 2
}
