{
 "cells": [
  {
   "cell_type": "markdown",
   "metadata": {},
   "source": [
    "## 1) Strings: Making Anagrams\n",
    "\n",
    "Alice is taking a cryptography class and finding anagrams to be very useful. We consider two strings to be anagrams of each other if the first string's letters can be rearranged to form the second string. In other words, both strings must contain the same exact letters in the same exact frequency For example, *bacdc* and *dcbac* are anagrams, but bacdc and dcbad are not.\n",
    "\n",
    "Alice decides on an encryption scheme involving two large strings where encryption is dependent on the **minimum number of character deletions** required to make the two strings anagrams. Can you help her find this number?"
   ]
  },
  {
   "cell_type": "code",
   "execution_count": null,
   "metadata": {},
   "outputs": [],
   "source": [
    "#!/bin/python3\n",
    "\n",
    "import math\n",
    "import os\n",
    "import random\n",
    "import re\n",
    "import sys\n",
    "\n",
    "# Complete the makeAnagram function below.\n",
    "def makeAnagram(a, b):\n",
    "    \n",
    "    diff = {}\n",
    "    \n",
    "    for letter in a:\n",
    "        if letter not in diff:\n",
    "            diff[letter] = 0\n",
    "        diff[letter] += 1\n",
    "        \n",
    "    for letter in b:\n",
    "        if letter not in diff:\n",
    "            diff[letter] = 0\n",
    "        diff[letter] -= 1\n",
    "        \n",
    "    return sum(abs(n) for n in diff.values())   \n",
    "\n",
    "if __name__ == '__main__':\n",
    "    fptr = open(os.environ['OUTPUT_PATH'], 'w')\n",
    "\n",
    "    a = input()\n",
    "\n",
    "    b = input()\n",
    "\n",
    "    res = makeAnagram(a, b)\n",
    "\n",
    "    fptr.write(str(res) + '\\n')\n",
    "\n",
    "    fptr.close()\n"
   ]
  },
  {
   "cell_type": "markdown",
   "metadata": {},
   "source": [
    "## 2) Alternating Characters\n",
    "\n",
    "You are given a string containing characters $A$ and $B$ only. Your task is to change it into a string such that there are no matching adjacent characters. To do this, you are allowed to delete zero or more characters in the string.\n",
    "\n",
    "Your task is to find the minimum number of required deletions."
   ]
  },
  {
   "cell_type": "code",
   "execution_count": null,
   "metadata": {},
   "outputs": [],
   "source": [
    "#!/bin/python3\n",
    "\n",
    "import math\n",
    "import os\n",
    "import random\n",
    "import re\n",
    "import sys\n",
    "\n",
    "# Complete the alternatingCharacters function below.\n",
    "def alternatingCharacters(s):\n",
    "    \n",
    "    count = 0\n",
    "    for i in range(len(s)-1):\n",
    "        if s[i] == s[i+1]:\n",
    "            count += 1\n",
    "    \n",
    "    return count\n",
    "\n",
    "if __name__ == '__main__':\n",
    "    fptr = open(os.environ['OUTPUT_PATH'], 'w')\n",
    "\n",
    "    q = int(input())\n",
    "\n",
    "    for q_itr in range(q):\n",
    "        s = input()\n",
    "\n",
    "        result = alternatingCharacters(s)\n",
    "\n",
    "        fptr.write(str(result) + '\\n')\n",
    "\n",
    "    fptr.close()\n"
   ]
  }
 ],
 "metadata": {
  "kernelspec": {
   "display_name": "Python 3",
   "language": "python",
   "name": "python3"
  },
  "language_info": {
   "codemirror_mode": {
    "name": "ipython",
    "version": 3
   },
   "file_extension": ".py",
   "mimetype": "text/x-python",
   "name": "python",
   "nbconvert_exporter": "python",
   "pygments_lexer": "ipython3",
   "version": "3.5.3"
  }
 },
 "nbformat": 4,
 "nbformat_minor": 2
}
